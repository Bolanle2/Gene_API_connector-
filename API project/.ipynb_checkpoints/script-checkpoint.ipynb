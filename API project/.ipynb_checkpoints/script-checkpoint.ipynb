{
 "cells": [
  {
   "cell_type": "markdown",
   "id": "73caa972-8314-4856-baec-6c1c704cb724",
   "metadata": {},
   "source": [
    "Automated Gene Annotation with REST APIs: Goal is to Create a Python script that retrieves gene function information from Ensembl or UniProt for a list of genes. This is a simple way to work with APIs."
   ]
  },
  {
   "cell_type": "code",
   "execution_count": null,
   "id": "98731c68-7f8d-469d-8817-24aa23007f04",
   "metadata": {},
   "outputs": [],
   "source": [
    "!pip install requests\n"
   ]
  },
  {
   "cell_type": "code",
   "execution_count": null,
   "id": "9551e3f0-0813-4419-952f-931bf790edbc",
   "metadata": {},
   "outputs": [],
   "source": [
    "!pip install biopython\n",
    "!pip install pandas\n"
   ]
  },
  {
   "cell_type": "code",
   "execution_count": 11,
   "id": "6e4c822a-6227-4e2e-91e7-5de848000d34",
   "metadata": {},
   "outputs": [],
   "source": [
    "import pandas as pd\n",
    "import requests \n",
    "from Bio import SeqIO\n",
    "\n"
   ]
  },
  {
   "cell_type": "code",
   "execution_count": 17,
   "id": "e5c82044-85cb-4c1b-87d8-99751289a17d",
   "metadata": {},
   "outputs": [],
   "source": [
    "genes= [\"BRCA1\", \"TP53\", \"EGFR\",\n",
    "        \"MYC\"]"
   ]
  },
  {
   "cell_type": "markdown",
   "id": "ff7a2639-2819-4ebb-81d0-0e7c36f66e1e",
   "metadata": {},
   "source": [
    "#fetching gene info from ensembl#\n",
    "\n",
    "\n",
    "we will be using the get look up from Ensembl REST API Endpoints \"\"\"GET lookup/symbol/:species/:symbol\tFind the species and database for a symbol in a linked external database\"\"\"\""
   ]
  },
  {
   "cell_type": "code",
   "execution_count": 18,
   "id": "d3b73a21-16b2-4ac5-b55a-f4ebc32867c5",
   "metadata": {},
   "outputs": [
    {
     "name": "stdout",
     "output_type": "stream",
     "text": [
      "  gene_name          gene_id decription         biotype               location\n",
      "0     BRCA1  ENSG00000012048       None  protein_coding   17:43044295-43170245\n",
      "1      TP53  ENSG00000141510       None  protein_coding     17:7661779-7687546\n",
      "2      EGFR  ENSG00000146648       None  protein_coding    7:55019017-55211628\n",
      "3       MYC  ENSG00000136997       None  protein_coding  8:127735434-127742951\n"
     ]
    }
   ],
   "source": [
    "def getgene_info(gene_name):\n",
    "    url= f'https://rest.ensembl.org/lookup/symbol/homo_sapiens/{gene_name}?'  #gene_name is placement for gene names stored in the gene variable \n",
    "    data_headers= {'Content-Type':'application/json'}\n",
    "    response= requests.get(url, headers=data_headers)\n",
    "    if response.status_code==200:  # 200 specifies that the request is succesfull\n",
    "        data=response.json() #changes json formart int the python libraray format \n",
    "        return{\n",
    "            \"gene_name\": gene_name,\n",
    "            \"gene_id\": data.get('id'),\n",
    "            \"decription\": data.get('decription'),\n",
    "            \"biotype\": data.get('biotype'),\n",
    "            \"location\": data.get('seq_region_name') + \":\" + str(data.get(\"start\"))+ \"-\"+ str(data.get(\"end\"))\n",
    "        }\n",
    "    else:\n",
    "        print(f'gene{gene_name} not found.')\n",
    "        return {\"Gene information not found\": \"Try Again\"}\n",
    "\n",
    "gene_data_info = [getgene_info(genes) for genes in genes]\n",
    "\n",
    "\n",
    "dataframe= pd.DataFrame(gene_data_info )\n",
    "\n",
    "print (dataframe)\n",
    "        \n",
    "                                                              \n",
    "                                   \n"
   ]
  },
  {
   "cell_type": "code",
   "execution_count": null,
   "id": "02e5fca0-70ad-4595-b35e-993e6847e0ca",
   "metadata": {},
   "outputs": [],
   "source": []
  }
 ],
 "metadata": {
  "kernelspec": {
   "display_name": "Python 3 (ipykernel)",
   "language": "python",
   "name": "python3"
  },
  "language_info": {
   "codemirror_mode": {
    "name": "ipython",
    "version": 3
   },
   "file_extension": ".py",
   "mimetype": "text/x-python",
   "name": "python",
   "nbconvert_exporter": "python",
   "pygments_lexer": "ipython3",
   "version": "3.12.5"
  }
 },
 "nbformat": 4,
 "nbformat_minor": 5
}
